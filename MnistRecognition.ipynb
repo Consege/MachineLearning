{
 "cells": [
  {
   "cell_type": "code",
   "execution_count": 92,
   "metadata": {},
   "outputs": [],
   "source": [
    "import torch\n",
    "import torchvision\n",
    "import os\n",
    "\n",
    "\n",
    "#读取Mnist数据\n",
    "training_set = (\n",
    "    torchvision.datasets.mnist.read_image_file(os.path.join('/home/kuangjun/course/机器学习/mnist', 'train-images-idx3-ubyte/data')),\n",
    "    torchvision.datasets.mnist.read_label_file(os.path.join('/home/kuangjun/course/机器学习/mnist', 'train-labels-idx1-ubyte/data'))\n",
    ")\n",
    "testing_set = (\n",
    "    torchvision.datasets.mnist.read_image_file(os.path.join('/home/kuangjun/course/机器学习/mnist','t10k-images-idx3-ubyte/data')),\n",
    "    torchvision.datasets.mnist.read_label_file(os.path.join('/home/kuangjun/course/机器学习/mnist','t10k-labels-idx1-ubyte/data'))\n",
    ")"
   ]
  },
  {
   "cell_type": "code",
   "execution_count": 93,
   "metadata": {},
   "outputs": [
    {
     "name": "stdout",
     "output_type": "stream",
     "text": [
      "3.6.3\n",
      "/usr/local/lib/python3.6/dist-packages/PIL/Image.py\n"
     ]
    },
    {
     "data": {
      "text/plain": [
       "dict_keys(['BMP', 'GIF', 'TIFF', 'JPEG', 'PPM', 'PNG', 'BUFR', 'PCX', 'EPS', 'FITS', 'GRIB', 'HDF5', 'JPEG2000', 'ICO', 'IM', 'MPO', 'MSP', 'PALM', 'PDF', 'SGI', 'SPIDER', 'TGA', 'WEBP', 'WMF', 'XBM'])"
      ]
     },
     "execution_count": 93,
     "metadata": {},
     "output_type": "execute_result"
    }
   ],
   "source": [
    "import platform\n",
    "print(platform.python_version())\n",
    "from PIL import Image\n",
    "print(Image.__file__)\n",
    "Image.init()\n",
    "Image.SAVE.keys()"
   ]
  },
  {
   "cell_type": "code",
   "execution_count": 94,
   "metadata": {},
   "outputs": [
    {
     "name": "stdout",
     "output_type": "stream",
     "text": [
      "/home/kuangjun/course/统计推断\n"
     ]
    }
   ],
   "source": [
    "%matplotlib inline\n",
    "#将像素值转化成图像\n",
    "import matplotlib\n",
    "root = os.getcwd()\n",
    "print(root)\n",
    "def convert_to_img(train = True):\n",
    "    if(train):\n",
    "        data_path = root+\"/train/\"\n",
    "        file_path = \"/train.txt\"\n",
    "        data_set = training_set\n",
    "    else:\n",
    "        data_path = root+\"/test/\"\n",
    "        file_path = \"/test.txt\"\n",
    "        data_set = testing_set\n",
    "        \n",
    "    with open(root+file_path,'w') as fw:\n",
    "        if (not os.path.exists(data_path)):\n",
    "            os.makedirs(data_path)\n",
    "        for i,(img,label) in enumerate(zip(data_set[0],data_set[1])):\n",
    "            img_path=data_path+str(i)+'.jpg'\n",
    "            matplotlib.image.imsave(img_path,img.numpy())\n",
    "            fw.write(img_path+' '+str(label)+'\\n')\n",
    "\n",
    "convert_to_img(True)\n",
    "convert_to_img(False)\n",
    "            "
   ]
  },
  {
   "cell_type": "code",
   "execution_count": 162,
   "metadata": {},
   "outputs": [],
   "source": [
    "import torch\n",
    "from torch.autograd import Variable\n",
    "from torchvision import transforms\n",
    "from torch.utils.data import Dataset,DataLoader\n",
    "from PIL import Image\n",
    "\n",
    "#hyper parameters\n",
    "EPOCH = 9\n",
    "BATCH_SIZE = 64\n",
    "LR = 0.0008   #学习率 \n",
    "def default_loader(path):\n",
    "    return Image.open(path).convert('L')\n",
    "class MyDataset(Dataset):\n",
    "    def __init__(self, txt, transform=None, target_transform=None, loader=default_loader):\n",
    "        fh = open(txt, 'r')\n",
    "        imgs = []\n",
    "        for line in fh:\n",
    "            line = line.strip('\\n')\n",
    "            line = line.rstrip()\n",
    "            words = line.split()\n",
    "            imgs.append((words[0],int(words[1][7:len(words[1])-1])))\n",
    "        self.imgs = imgs\n",
    "        self.transform = transform\n",
    "        self.target_transform = target_transform\n",
    "        self.loader = loader\n",
    "\n",
    "    def __getitem__(self, index):\n",
    "        fn, label = self.imgs[index]\n",
    "        img = self.loader(fn)\n",
    "        if self.transform is not None:\n",
    "            img = self.transform(img)\n",
    "        return img,label\n",
    "\n",
    "    def __len__(self):\n",
    "        return len(self.imgs)\n",
    "\n",
    "root = os.getcwd()\n",
    "train_data=MyDataset(txt=root+'/train.txt', transform=transforms.ToTensor())\n",
    "test_data=MyDataset(txt=root+'/test.txt', transform=transforms.ToTensor())\n",
    "#一个batch 32个sample , 1 channel, 28*28 (32,1,28,28)\n",
    "train_loader = DataLoader(dataset=train_data, batch_size=BATCH_SIZE, shuffle=True)\n",
    "test_loader = DataLoader(dataset=test_data, batch_size=BATCH_SIZE)"
   ]
  },
  {
   "cell_type": "code",
   "execution_count": 163,
   "metadata": {},
   "outputs": [
    {
     "name": "stdout",
     "output_type": "stream",
     "text": [
      "Net(\n",
      "  (conv1): Sequential(\n",
      "    (0): Conv2d(1, 16, kernel_size=(5, 5), stride=(1, 1), padding=(2, 2))\n",
      "    (1): ReLU()\n",
      "    (2): MaxPool2d(kernel_size=2, stride=2, padding=0, dilation=1, ceil_mode=False)\n",
      "  )\n",
      "  (conv2): Sequential(\n",
      "    (0): Conv2d(16, 32, kernel_size=(5, 5), stride=(1, 1), padding=(2, 2))\n",
      "    (1): ReLU()\n",
      "    (2): MaxPool2d(kernel_size=2, stride=2, padding=0, dilation=1, ceil_mode=False)\n",
      "  )\n",
      "  (out): Linear(in_features=1568, out_features=10, bias=True)\n",
      ")\n",
      "epoch 1\n"
     ]
    },
    {
     "name": "stderr",
     "output_type": "stream",
     "text": [
      "/usr/local/lib/python3.6/dist-packages/ipykernel_launcher.py:82: UserWarning: invalid index of a 0-dim tensor. This will be an error in PyTorch 0.5. Use tensor.item() to convert a 0-dim tensor to a Python number\n",
      "/usr/local/lib/python3.6/dist-packages/ipykernel_launcher.py:85: UserWarning: invalid index of a 0-dim tensor. This will be an error in PyTorch 0.5. Use tensor.item() to convert a 0-dim tensor to a Python number\n"
     ]
    },
    {
     "name": "stdout",
     "output_type": "stream",
     "text": [
      "Train Loss: 0.003491, Acc: 0.932733\n"
     ]
    },
    {
     "name": "stderr",
     "output_type": "stream",
     "text": [
      "/usr/local/lib/python3.6/dist-packages/ipykernel_launcher.py:100: UserWarning: volatile was removed and now has no effect. Use `with torch.no_grad():` instead.\n",
      "/usr/local/lib/python3.6/dist-packages/ipykernel_launcher.py:103: UserWarning: invalid index of a 0-dim tensor. This will be an error in PyTorch 0.5. Use tensor.item() to convert a 0-dim tensor to a Python number\n",
      "/usr/local/lib/python3.6/dist-packages/ipykernel_launcher.py:106: UserWarning: invalid index of a 0-dim tensor. This will be an error in PyTorch 0.5. Use tensor.item() to convert a 0-dim tensor to a Python number\n"
     ]
    },
    {
     "name": "stdout",
     "output_type": "stream",
     "text": [
      "Test Loss: 0.001108, Acc: 0.978700\n",
      "epoch 2\n",
      "Train Loss: 0.001009, Acc: 0.979800\n",
      "Test Loss: 0.000786, Acc: 0.983600\n",
      "epoch 3\n",
      "Train Loss: 0.000757, Acc: 0.984800\n",
      "Test Loss: 0.000583, Acc: 0.988100\n",
      "epoch 4\n",
      "Train Loss: 0.000589, Acc: 0.988317\n",
      "Test Loss: 0.000581, Acc: 0.988000\n",
      "epoch 5\n",
      "Train Loss: 0.000495, Acc: 0.990450\n",
      "Test Loss: 0.000541, Acc: 0.988500\n",
      "epoch 6\n",
      "Train Loss: 0.000421, Acc: 0.991667\n",
      "Test Loss: 0.000450, Acc: 0.990400\n",
      "epoch 7\n",
      "Train Loss: 0.000341, Acc: 0.993133\n",
      "Test Loss: 0.000448, Acc: 0.991000\n",
      "epoch 8\n",
      "Train Loss: 0.000289, Acc: 0.993917\n",
      "Test Loss: 0.000424, Acc: 0.991700\n",
      "epoch 9\n",
      "Train Loss: 0.000240, Acc: 0.995183\n",
      "Test Loss: 0.000423, Acc: 0.991100\n"
     ]
    }
   ],
   "source": [
    "# import torch\n",
    "# from torch.autograd import Variable\n",
    "# from torchvision import transforms\n",
    "# from torch.utils.data import Dataset,DataLoader\n",
    "# from PIL import Image\n",
    "\n",
    "# def default_loader(path):\n",
    "#     return Image.open(path).convert('RGB') \n",
    "\n",
    "# def getData(txt,transform = None,target_transform = None ,loader=default_loader):\n",
    "#     imgs = []\n",
    "#     with open(txt,'r') as fr:\n",
    "#         for line in fr:\n",
    "#             line = line.strip('\\n')\n",
    "#             line = line.rstrip()\n",
    "#             words = line.split()\n",
    "#             imgs.append((words[0],words[1][7:len(words[1])-1]))\n",
    "#     for index in range(len(imgs)):\n",
    "#         fr,label = imgs[index]\n",
    "#         img = loader(fr)\n",
    "#         if(transform is not None):\n",
    "#             img = transform(img)\n",
    "#         return img,label\n",
    "    \n",
    "# #加载数据集\n",
    "\n",
    "# root = os.getcwd()\n",
    "# train_data = getData(txt = root+'/train.txt',transform=transforms.ToTensor())\n",
    "# test_data = getData(txt = root+'/test.txt',transform=transforms.ToTensor())\n",
    "# print(train_data)\n",
    "# train_loader = DataLoader(dataset=train_data,batch_size=64,shuffle=True)\n",
    "# test_loader = DataLoader(dataset=test_data,batch_size=64)\n",
    "\n",
    "#构建网络，进行训练\n",
    "\n",
    "class Net(torch.nn.Module):\n",
    "    def __init__(self):\n",
    "        super(Net, self).__init__()\n",
    "        self.conv1 = torch.nn.Sequential(  # input shape (3, 28, 28)\n",
    "            torch.nn.Conv2d(\n",
    "                in_channels=1,      # input height\n",
    "                out_channels=16,    # n_filters\n",
    "                kernel_size=5,      # filter size\n",
    "                stride=1,           # filter movement/step\n",
    "                padding=2,      # 如果想要 con2d 出来的图片长宽没有变化, padding=(kernel_size-1)/2 当 stride=1\n",
    "            ),      # output shape (16, 28, 28)\n",
    "            torch.nn.ReLU(),    # activation\n",
    "            torch.nn.MaxPool2d(kernel_size=2),    # 在 2x2 空间里向下采样, output shape (16, 14, 14)\n",
    "        )\n",
    "        self.conv2 = torch.nn.Sequential(  # input shape (16, 14, 14)\n",
    "            torch.nn.Conv2d(16, 32, 5, 1, 2),  # output shape (32, 14, 14)\n",
    "            torch.nn.ReLU(),  # activation\n",
    "            torch.nn.MaxPool2d(2),  # output shape (32, 7, 7)\n",
    "        )\n",
    "        self.out = torch.nn.Linear(32 * 7 * 7, 10)   # fully connected layer, output 10 classes\n",
    "\n",
    "    def forward(self, x):\n",
    "        x = self.conv1(x)\n",
    "        x = self.conv2(x)\n",
    "        x = x.view(x.size(0), -1)   # 展平多维的卷积图成 (batch_size, 32 * 7 * 7)\n",
    "        output = self.out(x)\n",
    "        return output\n",
    "\n",
    "    \n",
    "model = Net()\n",
    "print(model)\n",
    "\n",
    "optimizer = torch.optim.Adam(model.parameters())\n",
    "loss_func = torch.nn.CrossEntropyLoss()\n",
    "\n",
    "for epoch in range(EPOCH):\n",
    "    print('epoch {}'.format(epoch + 1))\n",
    "    # training-----------------------------\n",
    "    train_loss = 0.\n",
    "    train_acc = 0.\n",
    "    for index ,batch in enumerate(train_loader):\n",
    "        batch_x = batch[0]\n",
    "        batch_y = batch[1]\n",
    "        batch_x, batch_y = Variable(batch_x), Variable(batch_y)\n",
    "        out = model(batch_x)\n",
    "        loss = loss_func(out, batch_y)\n",
    "        train_loss += loss.data[0]\n",
    "        pred = torch.max(out, 1)[1]\n",
    "        train_correct = (pred == batch_y).sum()\n",
    "        train_acc += train_correct.data[0]\n",
    "        optimizer.zero_grad()\n",
    "        loss.backward()\n",
    "        optimizer.step()\n",
    "    \n",
    "    train_acc = train_acc.float()\n",
    "    print('Train Loss: {:.6f}, Acc: {:.6f}'.format(train_loss / (len(\n",
    "        train_data)), train_acc / (len(train_data))))\n",
    "    \n",
    "\n",
    "    # evaluation--------------------------------\n",
    "    model.eval()\n",
    "    eval_loss = 0.\n",
    "    eval_acc = 0.\n",
    "    for batch_x ,batch_y in test_loader:\n",
    "        batch_x, batch_y = Variable(batch_x, volatile=True), Variable(batch_y, volatile=True)\n",
    "        out = model(batch_x)\n",
    "        loss = loss_func(out, batch_y)\n",
    "        eval_loss += loss.data[0]\n",
    "        pred = torch.max(out, 1)[1]\n",
    "        num_correct = (pred == batch_y).sum()\n",
    "        eval_acc += num_correct.data[0]\n",
    "    eval_acc = eval_acc.float()\n",
    "    print('Test Loss: {:.6f}, Acc: {:.6f}'.format(eval_loss / (len(\n",
    "        test_data)), eval_acc / (len(test_data))))"
   ]
  },
  {
   "cell_type": "code",
   "execution_count": 164,
   "metadata": {},
   "outputs": [
    {
     "data": {
      "image/png": "[encoded data removed]",
      "text/plain": [
       "<Figure size 432x288 with 10 Axes>"
      ]
     },
     "metadata": {},
     "output_type": "display_data"
    },
    {
     "name": "stdout",
     "output_type": "stream",
     "text": [
      "predict digits:\n",
      "\n",
      "[7],[2],[1],[0],[4]\n",
      "[1],[4],[9],[5],[9]\n"
     ]
    }
   ],
   "source": [
    "#加载测试集的前10张图片查看运行效果\n",
    "%matplotlib inline\n",
    "def default_loader(path):\n",
    "    return Image.open(path).convert('L')\n",
    "class MyVisualDataset(Dataset):\n",
    "    def __init__(self, txt, transform=None, target_transform=None, loader=default_loader):\n",
    "        fh = open(txt, 'r')\n",
    "        imgs = []\n",
    "        for line in fh:\n",
    "            line = line.strip('\\n')\n",
    "            imgs.append(line)\n",
    "        self.imgs = imgs\n",
    "        self.transform = transform\n",
    "        self.target_transform = target_transform\n",
    "        self.loader = loader\n",
    "\n",
    "    def __getitem__(self, index):\n",
    "        fn = self.imgs[index]\n",
    "        img = self.loader(fn)\n",
    "        if self.transform is not None:\n",
    "            img = self.transform(img)\n",
    "            \n",
    "        return img\n",
    "\n",
    "    def __len__(self):\n",
    "        return len(self.imgs)\n",
    "\n",
    "from matplotlib import pyplot # pyplot 用于显示图片\n",
    "from matplotlib import image # image 用于读取图片\n",
    "\n",
    "root = os.getcwd()\n",
    "with open(\"visual_test.txt\",'w') as fw:\n",
    "    for i in range(10):\n",
    "        pic = image.imread(root+'/test/'+str(i)+'.jpg')\n",
    "        fw.write(root+'/test/'+str(i)+'.jpg'+'\\n')\n",
    "        pyplot.subplot(2,5,i+1)\n",
    "        pyplot.axis('off')\n",
    "        pyplot.imshow(pic)\n",
    "pyplot.show()\n",
    "visual_data=MyVisualDataset(txt='visual_test.txt', transform=transforms.ToTensor())\n",
    "visual_loader = DataLoader(dataset=visual_data, batch_size=1)\n",
    "\n",
    "print(\"predict digits:\")\n",
    "print(\"\")\n",
    "for index,x in enumerate(visual_loader):\n",
    "    x = Variable(x)\n",
    "    out = model(x)\n",
    "    pred = torch.max(out, 1)[1]\n",
    "    if((index+1)%5 !=0):\n",
    "        print(pred.data.numpy(),end=',')\n",
    "    else:\n",
    "        print(pred.data.numpy())\n",
    "\n",
    "    "
   ]
  },
  {
   "cell_type": "code",
   "execution_count": null,
   "metadata": {},
   "outputs": [],
   "source": []
  }
 ],
 "metadata": {
  "kernelspec": {
   "display_name": "Python 3",
   "language": "python",
   "name": "python3"
  },
  "language_info": {
   "codemirror_mode": {
    "name": "ipython",
    "version": 3
   },
   "file_extension": ".py",
   "mimetype": "text/x-python",
   "name": "python",
   "nbconvert_exporter": "python",
   "pygments_lexer": "ipython3",
   "version": "3.6.3"
  }
 },
 "nbformat": 4,
 "nbformat_minor": 2
}
