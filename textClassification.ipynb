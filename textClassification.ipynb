{
 "cells": [
  {
   "cell_type": "code",
   "execution_count": 22,
   "metadata": {},
   "outputs": [],
   "source": [
    "#加载数据\n",
    "from sklearn.datasets import fetch_20newsgroups\n",
    "newsgroups_train = fetch_20newsgroups(subset=\"train\")\n",
    "newsgroups_test = fetch_20newsgroups(subset=\"test\")\n"
   ]
  },
  {
   "cell_type": "code",
   "execution_count": 49,
   "metadata": {},
   "outputs": [],
   "source": [
    "#用词袋模型提取文本特征\n",
    "from sklearn.feature_extraction.text import CountVectorizer\n",
    "#count_vect = CountVectorizer()\n",
    "count_vect = CountVectorizer(stop_words='english')\n",
    "X_train_counts = count_vect.fit_transform(newsgroups_train.data)\n",
    "X_train_counts = count_vect.fit_transform(newsgroups_train.data)\n",
    "#提取文档的tf-idf\n",
    "from sklearn.feature_extraction.text import TfidfTransformer\n",
    "tfidf_transformer = TfidfTransformer()\n",
    "X_train_tfidf = tfidf_transformer.fit_transform(X_train_counts)\n",
    "\n",
    "X_test_counts = count_vect.fit_transform(newsgroups_test.data)\n",
    "X_test_tfidf = tfidf_transformer.fit_transform(X_test_counts)"
   ]
  },
  {
   "cell_type": "code",
   "execution_count": 50,
   "metadata": {},
   "outputs": [
    {
     "name": "stdout",
     "output_type": "stream",
     "text": [
      "0.870458989885641\n",
      "531ms\n"
     ]
    }
   ],
   "source": [
    "#使用naive bayes进行分类\n",
    "import time\n",
    "from sklearn.naive_bayes import MultinomialNB\n",
    "start_time = time.time()\n",
    "clf = MultinomialNB().fit(X_train_tfidf, newsgroups_train.target)\n",
    "#得到预测结果\n",
    "from sklearn import cross_validation\n",
    "import numpy as np\n",
    "scores = cross_validation.cross_val_score(clf, X_test_tfidf, newsgroups_test.target, cv=5)\n",
    "print(np.mean(np.array(scores)))\n",
    "end_time = time.time()\n",
    "print(str(int(round((end_time-start_time)*1000)))+'ms')"
   ]
  },
  {
   "cell_type": "code",
   "execution_count": 51,
   "metadata": {},
   "outputs": [
    {
     "name": "stdout",
     "output_type": "stream",
     "text": [
      "0.7201502284809722\n",
      "13516ms\n"
     ]
    }
   ],
   "source": [
    "#使用随机森林进行分类\n",
    "import time\n",
    "from sklearn.ensemble import RandomForestClassifier\n",
    "start_time = time.time()\n",
    "clf_rf = RandomForestClassifier(max_depth=200, random_state=17)\n",
    "clf_rf.fit(X_train_tfidf, newsgroups_train.target)\n",
    "scores = cross_validation.cross_val_score(clf_rf, X_test_tfidf, newsgroups_test.target, cv=5)\n",
    "print(np.mean(np.array(scores)))\n",
    "end_time = time.time()\n",
    "print(str(int(round((end_time-start_time)*1000)))+'ms')"
   ]
  },
  {
   "cell_type": "code",
   "execution_count": 52,
   "metadata": {},
   "outputs": [
    {
     "name": "stdout",
     "output_type": "stream",
     "text": [
      "0.7702139666541441\n",
      "2924ms\n"
     ]
    }
   ],
   "source": [
    "#KNN\n",
    "import time\n",
    "from sklearn.neighbors import KNeighborsClassifier\n",
    "start_time = time.time()\n",
    "neigh = KNeighborsClassifier(n_neighbors=11)\n",
    "neigh.fit(X_train_tfidf, newsgroups_train.target) \n",
    "scores = cross_validation.cross_val_score(neigh, X_test_tfidf, newsgroups_test.target, cv=5)\n",
    "print(np.mean(np.array(scores)))\n",
    "end_time = time.time()\n",
    "print(str(int(round((end_time-start_time)*1000)))+'ms')"
   ]
  }
 ],
 "metadata": {
  "kernelspec": {
   "display_name": "Python 3",
   "language": "python",
   "name": "python3"
  },
  "language_info": {
   "codemirror_mode": {
    "name": "ipython",
    "version": 3
   },
   "file_extension": ".py",
   "mimetype": "text/x-python",
   "name": "python",
   "nbconvert_exporter": "python",
   "pygments_lexer": "ipython3",
   "version": "3.6.3"
  }
 },
 "nbformat": 4,
 "nbformat_minor": 2
}
